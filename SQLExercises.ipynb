{
  "nbformat": 4,
  "nbformat_minor": 0,
  "metadata": {
    "colab": {
      "name": "SQLExercises.ipynb",
      "provenance": [],
      "authorship_tag": "ABX9TyMg0FCncHcnKWWrDaA4C1lL",
      "include_colab_link": true
    },
    "kernelspec": {
      "name": "python3",
      "display_name": "Python 3"
    }
  },
  "cells": [
    {
      "cell_type": "markdown",
      "metadata": {
        "id": "view-in-github",
        "colab_type": "text"
      },
      "source": [
        "<a href=\"https://colab.research.google.com/github/lucasprovenzano/SQLExercises/blob/main/SQLExercises.ipynb\" target=\"_parent\"><img src=\"https://colab.research.google.com/assets/colab-badge.svg\" alt=\"Open In Colab\"/></a>"
      ]
    },
    {
      "cell_type": "code",
      "metadata": {
        "id": "ngteA3hBRCc4"
      },
      "source": [
        "import sqlite3"
      ],
      "execution_count": 1,
      "outputs": []
    },
    {
      "cell_type": "code",
      "metadata": {
        "id": "xPKZBL_3RV5E"
      },
      "source": [
        "# Creating function to connect to the data base and create a new table. \n",
        "\n",
        "# Querys list:\n",
        "CREATE_BEANS_TABLE =  \"CREATE TABLE beans (id INTEGER PRIMARY KEY, name TEXT, method TEXT, rating INTEGER);\"\n",
        "INSERT_BEAN = \"INSERT INTO beans (name, method, rating) VALUES (?, ?, ?);\"\n",
        "GET_ALL_BEANS = \"SELECT * FROM beans;\"\n",
        "FIND_BEANS_BY_NAME = \"SELECT * FROM beans WHERE name = ?;\"\n",
        "GET_BEST_PREPARATION_FOR_BEAN = \"\"\"\n",
        "SELECT * FROM beans\n",
        "WHERE name = ?\n",
        "ORDER BY raiting DESC\n",
        "LIMIT 1;\"\"\"\n",
        "\n",
        "def connect():\n",
        "  return sqlite3.connect(\"data.db\")\n",
        "\n",
        "def create_tables(connection):\n",
        "  with connection:\n",
        "    connection.execute(CREATE_BEANS_TABLE)\n",
        "\n",
        "def add_beans(connection, name, method, rating):\n",
        "  with connection:\n",
        "    connection.execute(INSERT_BEAN, (name, method, rating))\n",
        "\n",
        "def get_all_beans(connection):\n",
        "  with connection:\n",
        "    return connection.execute(GET_ALL_BEANS).fetchall()\n",
        "\n",
        "def get_beans_by_name(connection, name):\n",
        "  with connection:\n",
        "    return connection.exectue(FIND_BEANS_BY_NAME, (name,)).fetchall() \n",
        "    \n",
        "def get_best_preparation_for_bean(connection, name):\n",
        "  with connection:\n",
        "    return connection.execute(GET_BEST_PREPARATION_FOR_BEAN,(name,)).fetchone()\n"
      ],
      "execution_count": 6,
      "outputs": []
    },
    {
      "cell_type": "code",
      "metadata": {
        "id": "1ZptBee0STqv"
      },
      "source": [
        "def menu():\n",
        "  connection = connect()\n",
        "  create_tables(connection)"
      ],
      "execution_count": null,
      "outputs": []
    }
  ]
}