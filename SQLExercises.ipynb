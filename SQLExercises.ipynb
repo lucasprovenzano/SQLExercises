{
  "nbformat": 4,
  "nbformat_minor": 0,
  "metadata": {
    "colab": {
      "name": "SQLExercises.ipynb",
      "provenance": [],
      "authorship_tag": "ABX9TyMP6k2/zq7meiyJ5Prc0/vL",
      "include_colab_link": true
    },
    "kernelspec": {
      "name": "python3",
      "display_name": "Python 3"
    }
  },
  "cells": [
    {
      "cell_type": "markdown",
      "metadata": {
        "id": "view-in-github",
        "colab_type": "text"
      },
      "source": [
        "<a href=\"https://colab.research.google.com/github/lucasprovenzano/SQLExercises/blob/main/SQLExercises.ipynb\" target=\"_parent\"><img src=\"https://colab.research.google.com/assets/colab-badge.svg\" alt=\"Open In Colab\"/></a>"
      ]
    },
    {
      "cell_type": "code",
      "metadata": {
        "id": "ngteA3hBRCc4"
      },
      "source": [
        "import sqlite3"
      ],
      "execution_count": 1,
      "outputs": []
    },
    {
      "cell_type": "code",
      "metadata": {
        "id": "xPKZBL_3RV5E"
      },
      "source": [
        "# Creating function to connect to the data base and create a new table. \n",
        "\n",
        "# Querys list:\n",
        "CREATE_BEANS_TABLE =  \"CREATE TABLE beans (id INTEGER PRIMARY KEY, name TEXT, method TEXT, rating INTEGER);\"\n",
        "INSERT_BEAN = \"INSERT INTO beans (name, method, rating) VALUES (?, ?, ?);\"\n",
        "GET_ALL_BEANS = \"SELECT * FROM beans;\"\n",
        "FIND_BEANS_BY_NAME = \n",
        "\n",
        "def connect():\n",
        "  return sqlite3.connect(\"data.db\")\n",
        "\n",
        "def create_tables(connection):\n",
        "  with connection:\n",
        "    connection.execute(CREATE_BEANS_TABLE)\n",
        "\n",
        "def add_beans(connection, name, method, rating):\n",
        "  with connection:\n",
        "    connection.execute(INSERT_BEAN, (name, method, rating))"
      ],
      "execution_count": 4,
      "outputs": []
    },
    {
      "cell_type": "code",
      "metadata": {
        "id": "1ZptBee0STqv"
      },
      "source": [
        "def menu():\n",
        "  connection = connect()\n",
        "  create_tables(connection)"
      ],
      "execution_count": null,
      "outputs": []
    }
  ]
}