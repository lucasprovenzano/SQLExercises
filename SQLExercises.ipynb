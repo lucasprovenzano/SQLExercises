{
  "nbformat": 4,
  "nbformat_minor": 0,
  "metadata": {
    "colab": {
      "name": "SQLExercises.ipynb",
      "provenance": [],
      "authorship_tag": "ABX9TyOZ6v872imRm6gvtrPouZ4Q",
      "include_colab_link": true
    },
    "kernelspec": {
      "name": "python3",
      "display_name": "Python 3"
    }
  },
  "cells": [
    {
      "cell_type": "markdown",
      "metadata": {
        "id": "view-in-github",
        "colab_type": "text"
      },
      "source": [
        "<a href=\"https://colab.research.google.com/github/lucasprovenzano/SQLExercises/blob/main/SQLExercises.ipynb\" target=\"_parent\"><img src=\"https://colab.research.google.com/assets/colab-badge.svg\" alt=\"Open In Colab\"/></a>"
      ]
    },
    {
      "cell_type": "code",
      "metadata": {
        "id": "ngteA3hBRCc4"
      },
      "source": [
        "import sqlite3"
      ],
      "execution_count": 1,
      "outputs": []
    },
    {
      "cell_type": "code",
      "metadata": {
        "id": "xPKZBL_3RV5E"
      },
      "source": [
        "# Creating function to connect to the data base and create a new table. \n",
        "\n",
        "# Querys list:\n",
        "CREATE_BEANS_TABLE =  \"CREATE TABLE IF NOT EXISTS beans (id INTEGER PRIMARY KEY, name TEXT, method TEXT, rating INTEGER);\"\n",
        "INSERT_BEAN = \"INSERT INTO beans (name, method, rating) VALUES (?, ?, ?);\"\n",
        "GET_ALL_BEANS = \"SELECT * FROM beans;\"\n",
        "FIND_BEANS_BY_NAME = \"SELECT * FROM beans WHERE name = ?;\"\n",
        "GET_BEST_PREPARATION_FOR_BEAN = \"\"\"\n",
        "SELECT * FROM beans\n",
        "WHERE name = ?\n",
        "ORDER BY raiting DESC\n",
        "LIMIT 1;\"\"\"\n",
        "\n",
        "def connect():\n",
        "  return sqlite3.connect(\"data.db\")\n",
        "\n",
        "def create_tables(connection):\n",
        "  with connection:\n",
        "    connection.execute(CREATE_BEANS_TABLE)\n",
        "\n",
        "def add_beans(connection, name, method, rating):\n",
        "  with connection:\n",
        "    connection.execute(INSERT_BEAN, (name, method, rating))\n",
        "\n",
        "def get_all_beans(connection):\n",
        "  with connection:\n",
        "    return connection.execute(GET_ALL_BEANS).fetchall()\n",
        "\n",
        "def get_beans_by_name(connection, name):\n",
        "  with connection:\n",
        "    return connection.execute(FIND_BEANS_BY_NAME, (name,)).fetchall() \n",
        "    \n",
        "def get_best_preparation_for_bean(connection, name):\n",
        "  with connection:\n",
        "    return connection.execute(GET_BEST_PREPARATION_FOR_BEAN,(name,)).fetchone()\n"
      ],
      "execution_count": 17,
      "outputs": []
    },
    {
      "cell_type": "code",
      "metadata": {
        "colab": {
          "base_uri": "https://localhost:8080/"
        },
        "id": "1ZptBee0STqv",
        "outputId": "dbbb875e-7f09-43a1-b7e0-bd95a2fa210b"
      },
      "source": [
        "MENU_PROMPT = \"\"\" -- Coffe Bean App --\n",
        "\n",
        "Please choose one of these options:\n",
        "\n",
        "1) Add new bean. \n",
        "2) See all beans. \n",
        "3) Find a bean by name.\n",
        "4) See which preparation method is best for a bean. \n",
        "5) Exit.\n",
        "\n",
        "Your selection:\"\"\"\n",
        "\n",
        "def menu():\n",
        "  connection = connect()\n",
        "  create_tables(connection)\n",
        "  open_menu = True\n",
        "\n",
        "  while open_menu:\n",
        "    user_input = input(MENU_PROMPT)\n",
        "    \n",
        "    if user_input == \"1\":\n",
        "      name = input(\"Enter bean name: \")\n",
        "      method = input(\"Enter how you've prepared it:\")\n",
        "      rating = int(input(\"Enter your rating score (0-100): \"))\n",
        "\n",
        "      add_beans(connection, name, method, rating)\n",
        "      break\n",
        "    elif user_input == \"2\":\n",
        "      beans = get_all_beans(connection)\n",
        "\n",
        "      for bean in beans:\n",
        "        print(f\"{bean[1]} ({bean[2]}) - {bean[3]}/100\")\n",
        "      break\n",
        "    elif user_input == \"3\":\n",
        "      name = input(\"Enter bean name to find:\")\n",
        "      beans = get_beans_by_name(connection, name)\n",
        "\n",
        "      for bean in beans:\n",
        "        print(f\"{bean[1]} ({bean[2]}) - {bean[3]}/100\")\n",
        "      break\n",
        "    elif user_input == \"4\":\n",
        "      break\n",
        "    elif user_input == \"5\":\n",
        "      open_menu = False\n",
        "      break\n",
        "    else:\n",
        "      print(\"Invalid input, please try again.\")\n",
        "      break\n",
        "\n",
        "menu()"
      ],
      "execution_count": 18,
      "outputs": [
        {
          "output_type": "stream",
          "text": [
            " -- Coffe Bean App --\n",
            "\n",
            "Please choose one of these options:\n",
            "\n",
            "1) Add new bean. \n",
            "2) See all beans. \n",
            "3) Find a bean by name.\n",
            "4) See which preparation method is best for a bean. \n",
            "5) Exit.\n",
            "\n",
            "Your selection:3\n",
            "Enter bean name to find:bean\n",
            "bean (expresso) - 50/100\n"
          ],
          "name": "stdout"
        }
      ]
    }
  ]
}